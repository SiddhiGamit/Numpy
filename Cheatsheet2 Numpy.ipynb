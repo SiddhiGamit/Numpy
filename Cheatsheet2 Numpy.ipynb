{
 "cells": [
  {
   "cell_type": "markdown",
   "id": "8cf1ce29",
   "metadata": {},
   "source": [
    " # Array Mathematics\n"
   ]
  },
  {
   "cell_type": "code",
   "execution_count": 1,
   "id": "00094455",
   "metadata": {},
   "outputs": [],
   "source": [
    "import numpy as np"
   ]
  },
  {
   "cell_type": "code",
   "execution_count": 2,
   "id": "25372697",
   "metadata": {},
   "outputs": [
    {
     "data": {
      "text/plain": [
       "array([[1, 2],\n",
       "       [5, 6]])"
      ]
     },
     "execution_count": 2,
     "metadata": {},
     "output_type": "execute_result"
    }
   ],
   "source": [
    "A=np.array([[1, 2], [5, 6]])\n",
    "A"
   ]
  },
  {
   "cell_type": "code",
   "execution_count": 3,
   "id": "d52efd48",
   "metadata": {},
   "outputs": [
    {
     "name": "stdout",
     "output_type": "stream",
     "text": [
      "[[1 4]\n",
      " [5 7]]\n"
     ]
    }
   ],
   "source": [
    "B=np.array([[1, 4], [5, 7]])\n",
    "print(B)"
   ]
  },
  {
   "cell_type": "code",
   "execution_count": 4,
   "id": "a7e468e3",
   "metadata": {},
   "outputs": [
    {
     "data": {
      "text/plain": [
       "array([[ 2,  6],\n",
       "       [10, 13]])"
      ]
     },
     "execution_count": 4,
     "metadata": {},
     "output_type": "execute_result"
    }
   ],
   "source": [
    "A+B"
   ]
  },
  {
   "cell_type": "code",
   "execution_count": 5,
   "id": "de0d08ae",
   "metadata": {},
   "outputs": [
    {
     "data": {
      "text/plain": [
       "array([[ 0, -2],\n",
       "       [ 0, -1]])"
      ]
     },
     "execution_count": 5,
     "metadata": {},
     "output_type": "execute_result"
    }
   ],
   "source": [
    "A-B"
   ]
  },
  {
   "cell_type": "code",
   "execution_count": 6,
   "id": "27cc5720",
   "metadata": {},
   "outputs": [
    {
     "data": {
      "text/plain": [
       "array([[ 1,  8],\n",
       "       [25, 42]])"
      ]
     },
     "execution_count": 6,
     "metadata": {},
     "output_type": "execute_result"
    }
   ],
   "source": [
    "A*B"
   ]
  },
  {
   "cell_type": "code",
   "execution_count": 7,
   "id": "671c667d",
   "metadata": {},
   "outputs": [
    {
     "data": {
      "text/plain": [
       "array([[1.        , 0.5       ],\n",
       "       [1.        , 0.85714286]])"
      ]
     },
     "execution_count": 7,
     "metadata": {},
     "output_type": "execute_result"
    }
   ],
   "source": [
    "A/B"
   ]
  },
  {
   "cell_type": "code",
   "execution_count": 8,
   "id": "64dadce3",
   "metadata": {},
   "outputs": [
    {
     "data": {
      "text/plain": [
       "array([[ 7,  8],\n",
       "       [11, 12]])"
      ]
     },
     "execution_count": 8,
     "metadata": {},
     "output_type": "execute_result"
    }
   ],
   "source": [
    "A+6"
   ]
  },
  {
   "cell_type": "code",
   "execution_count": 9,
   "id": "a0e08b70",
   "metadata": {},
   "outputs": [
    {
     "data": {
      "text/plain": [
       "array([[-5, -4],\n",
       "       [-1,  0]])"
      ]
     },
     "execution_count": 9,
     "metadata": {},
     "output_type": "execute_result"
    }
   ],
   "source": [
    "A-6"
   ]
  },
  {
   "cell_type": "code",
   "execution_count": 10,
   "id": "c84d8ab2",
   "metadata": {},
   "outputs": [
    {
     "data": {
      "text/plain": [
       "array([[ 6, 12],\n",
       "       [30, 36]])"
      ]
     },
     "execution_count": 10,
     "metadata": {},
     "output_type": "execute_result"
    }
   ],
   "source": [
    "A*6"
   ]
  },
  {
   "cell_type": "code",
   "execution_count": 11,
   "id": "b688c6ce",
   "metadata": {},
   "outputs": [
    {
     "data": {
      "text/plain": [
       "array([[0.16666667, 0.33333333],\n",
       "       [0.83333333, 1.        ]])"
      ]
     },
     "execution_count": 11,
     "metadata": {},
     "output_type": "execute_result"
    }
   ],
   "source": [
    "A/6"
   ]
  },
  {
   "cell_type": "code",
   "execution_count": 12,
   "id": "bb37f943",
   "metadata": {},
   "outputs": [
    {
     "data": {
      "text/plain": [
       "array([[  2.71828183,   7.3890561 ],\n",
       "       [148.4131591 , 403.42879349]])"
      ]
     },
     "execution_count": 12,
     "metadata": {},
     "output_type": "execute_result"
    }
   ],
   "source": [
    "A=np.array([[1, 2], [5, 6]])\n",
    "np.exp(A)"
   ]
  },
  {
   "cell_type": "code",
   "execution_count": 13,
   "id": "4fe402e1",
   "metadata": {},
   "outputs": [
    {
     "data": {
      "text/plain": [
       "array([[1.        , 1.41421356],\n",
       "       [2.23606798, 2.44948974]])"
      ]
     },
     "execution_count": 13,
     "metadata": {},
     "output_type": "execute_result"
    }
   ],
   "source": [
    "A=np.array([[1, 2], [5, 6]])\n",
    "\n",
    "np.sqrt(A)\n"
   ]
  },
  {
   "cell_type": "code",
   "execution_count": 14,
   "id": "c7466165",
   "metadata": {},
   "outputs": [
    {
     "data": {
      "text/plain": [
       "array([[ 0.        ,  0.84147098, -0.98803162,  0.85090352,  0.89399666]])"
      ]
     },
     "execution_count": 14,
     "metadata": {},
     "output_type": "execute_result"
    }
   ],
   "source": [
    "A=np.array([[0, 1, 30, 45, 90]])\n",
    "np.sin(A)"
   ]
  },
  {
   "cell_type": "code",
   "execution_count": 15,
   "id": "c535ffe6",
   "metadata": {},
   "outputs": [
    {
     "data": {
      "text/plain": [
       "array([[ 1.        ,  0.54030231,  0.15425145,  0.52532199, -0.44807362]])"
      ]
     },
     "execution_count": 15,
     "metadata": {},
     "output_type": "execute_result"
    }
   ],
   "source": [
    "A=np.array([[0, 1, 30, 45, 90]])\n",
    "np.cos(A)"
   ]
  },
  {
   "cell_type": "code",
   "execution_count": 16,
   "id": "e905ad85",
   "metadata": {},
   "outputs": [
    {
     "data": {
      "text/plain": [
       "array([[0.        , 0.69314718, 1.09861229, 1.38629436, 1.60943791]])"
      ]
     },
     "execution_count": 16,
     "metadata": {},
     "output_type": "execute_result"
    }
   ],
   "source": [
    "A=np.array([[1, 2, 3, 4, 5]])\n",
    "np.log(A)"
   ]
  },
  {
   "cell_type": "code",
   "execution_count": 17,
   "id": "fa5df343",
   "metadata": {},
   "outputs": [
    {
     "data": {
      "text/plain": [
       "array([[103, 113],\n",
       "       [ 88,  89]])"
      ]
     },
     "execution_count": 17,
     "metadata": {},
     "output_type": "execute_result"
    }
   ],
   "source": [
    "A=np.array([[8, 7], [5, 7]])\n",
    "B=np.array([[5, 8], [9, 7]])\n",
    "\n",
    "np.dot(A,B)"
   ]
  },
  {
   "cell_type": "markdown",
   "id": "c5d7c365",
   "metadata": {},
   "source": [
    "# Comparison"
   ]
  },
  {
   "cell_type": "code",
   "execution_count": 18,
   "id": "9997a236",
   "metadata": {},
   "outputs": [],
   "source": [
    "import numpy as np"
   ]
  },
  {
   "cell_type": "code",
   "execution_count": 19,
   "id": "551dd31e",
   "metadata": {},
   "outputs": [
    {
     "name": "stdout",
     "output_type": "stream",
     "text": [
      "[[1 2]\n",
      " [5 6]]\n"
     ]
    }
   ],
   "source": [
    "A=np.array([[1, 2], [5, 6]])\n",
    "print(A)"
   ]
  },
  {
   "cell_type": "code",
   "execution_count": 20,
   "id": "4c83e214",
   "metadata": {},
   "outputs": [
    {
     "name": "stdout",
     "output_type": "stream",
     "text": [
      "[[1 4]\n",
      " [5 7]]\n"
     ]
    }
   ],
   "source": [
    "B=np.array([[1, 4], [5, 7]])\n",
    "\n",
    "print(B)\n"
   ]
  },
  {
   "cell_type": "code",
   "execution_count": 21,
   "id": "e82cb56b",
   "metadata": {},
   "outputs": [
    {
     "data": {
      "text/plain": [
       "array([[ True, False],\n",
       "       [ True, False]])"
      ]
     },
     "execution_count": 21,
     "metadata": {},
     "output_type": "execute_result"
    }
   ],
   "source": [
    "A==B"
   ]
  },
  {
   "cell_type": "code",
   "execution_count": 22,
   "id": "4cba3253",
   "metadata": {},
   "outputs": [
    {
     "data": {
      "text/plain": [
       "array([[ True, False],\n",
       "       [False, False]])"
      ]
     },
     "execution_count": 22,
     "metadata": {},
     "output_type": "execute_result"
    }
   ],
   "source": [
    "A<2"
   ]
  },
  {
   "cell_type": "code",
   "execution_count": 23,
   "id": "64b1e9d7",
   "metadata": {},
   "outputs": [
    {
     "data": {
      "text/plain": [
       "array([[False, False],\n",
       "       [False,  True]])"
      ]
     },
     "execution_count": 23,
     "metadata": {},
     "output_type": "execute_result"
    }
   ],
   "source": [
    "A>5"
   ]
  },
  {
   "cell_type": "code",
   "execution_count": 24,
   "id": "32273653",
   "metadata": {},
   "outputs": [
    {
     "data": {
      "text/plain": [
       "False"
      ]
     },
     "execution_count": 24,
     "metadata": {},
     "output_type": "execute_result"
    }
   ],
   "source": [
    "np.array_equal(A, B)"
   ]
  },
  {
   "cell_type": "code",
   "execution_count": 25,
   "id": "6abc6248",
   "metadata": {},
   "outputs": [
    {
     "data": {
      "text/plain": [
       "array([1, 5])"
      ]
     },
     "execution_count": 25,
     "metadata": {},
     "output_type": "execute_result"
    }
   ],
   "source": [
    "A[A==B]"
   ]
  },
  {
   "cell_type": "markdown",
   "id": "ff7dc444",
   "metadata": {},
   "source": [
    "# Aggregate Function"
   ]
  },
  {
   "cell_type": "code",
   "execution_count": 26,
   "id": "1a1f56ad",
   "metadata": {},
   "outputs": [
    {
     "data": {
      "text/plain": [
       "14"
      ]
     },
     "execution_count": 26,
     "metadata": {},
     "output_type": "execute_result"
    }
   ],
   "source": [
    "A=np.array([[1, 2], [5, 6]])\n",
    "np.sum(A)"
   ]
  },
  {
   "cell_type": "code",
   "execution_count": 27,
   "id": "ef016af9",
   "metadata": {},
   "outputs": [
    {
     "data": {
      "text/plain": [
       "1"
      ]
     },
     "execution_count": 27,
     "metadata": {},
     "output_type": "execute_result"
    }
   ],
   "source": [
    "A=np.array([[1, 2], [5, 6]])\n",
    "np.min(A)"
   ]
  },
  {
   "cell_type": "code",
   "execution_count": 28,
   "id": "fc60e7fb",
   "metadata": {},
   "outputs": [
    {
     "data": {
      "text/plain": [
       "6"
      ]
     },
     "execution_count": 28,
     "metadata": {},
     "output_type": "execute_result"
    }
   ],
   "source": [
    "A=np.array([[1, 2], [5, 6]])\n",
    "np.max(A)"
   ]
  },
  {
   "cell_type": "code",
   "execution_count": 29,
   "id": "224d6b5b",
   "metadata": {},
   "outputs": [
    {
     "data": {
      "text/plain": [
       "array([5, 6])"
      ]
     },
     "execution_count": 29,
     "metadata": {},
     "output_type": "execute_result"
    }
   ],
   "source": [
    "A.max(axis=0)"
   ]
  },
  {
   "cell_type": "code",
   "execution_count": 30,
   "id": "974aa629",
   "metadata": {},
   "outputs": [
    {
     "data": {
      "text/plain": [
       "array([ 1,  3,  8, 14], dtype=int32)"
      ]
     },
     "execution_count": 30,
     "metadata": {},
     "output_type": "execute_result"
    }
   ],
   "source": [
    "np.cumsum(A)"
   ]
  },
  {
   "cell_type": "code",
   "execution_count": 31,
   "id": "ed19ea32",
   "metadata": {},
   "outputs": [
    {
     "data": {
      "text/plain": [
       "array([[ 1,  3],\n",
       "       [ 5, 11]], dtype=int32)"
      ]
     },
     "execution_count": 31,
     "metadata": {},
     "output_type": "execute_result"
    }
   ],
   "source": [
    "A.cumsum(axis=1)"
   ]
  },
  {
   "cell_type": "code",
   "execution_count": 32,
   "id": "cb9f9641",
   "metadata": {},
   "outputs": [
    {
     "data": {
      "text/plain": [
       "3.5"
      ]
     },
     "execution_count": 32,
     "metadata": {},
     "output_type": "execute_result"
    }
   ],
   "source": [
    "np.mean(A)"
   ]
  },
  {
   "cell_type": "code",
   "execution_count": 33,
   "id": "756fe376",
   "metadata": {},
   "outputs": [
    {
     "data": {
      "text/plain": [
       "3.5"
      ]
     },
     "execution_count": 33,
     "metadata": {},
     "output_type": "execute_result"
    }
   ],
   "source": [
    "np.median(A)"
   ]
  },
  {
   "cell_type": "code",
   "execution_count": 34,
   "id": "42d786f9",
   "metadata": {},
   "outputs": [
    {
     "data": {
      "text/plain": [
       "array([[1., 1.],\n",
       "       [1., 1.]])"
      ]
     },
     "execution_count": 34,
     "metadata": {},
     "output_type": "execute_result"
    }
   ],
   "source": [
    "np.corrcoef(A)"
   ]
  },
  {
   "cell_type": "code",
   "execution_count": 35,
   "id": "d07c8007",
   "metadata": {},
   "outputs": [
    {
     "data": {
      "text/plain": [
       "2.0615528128088303"
      ]
     },
     "execution_count": 35,
     "metadata": {},
     "output_type": "execute_result"
    }
   ],
   "source": [
    "np.std(A)"
   ]
  },
  {
   "cell_type": "markdown",
   "id": "1ae2c6df",
   "metadata": {},
   "source": [
    "# Copying array"
   ]
  },
  {
   "cell_type": "code",
   "execution_count": 36,
   "id": "d3fa8b85",
   "metadata": {},
   "outputs": [
    {
     "name": "stdout",
     "output_type": "stream",
     "text": [
      "[[1 2]\n",
      " [5 6]]\n"
     ]
    }
   ],
   "source": [
    "import numpy as np\n",
    "A=np.array([[1, 2], [5, 6]])\n",
    "\n",
    "B=A.view()\n",
    "print(A)\n"
   ]
  },
  {
   "cell_type": "code",
   "execution_count": 37,
   "id": "ad79e724",
   "metadata": {},
   "outputs": [
    {
     "data": {
      "text/plain": [
       "array([[1, 2],\n",
       "       [5, 6]])"
      ]
     },
     "execution_count": 37,
     "metadata": {},
     "output_type": "execute_result"
    }
   ],
   "source": [
    "np.copy(B)"
   ]
  },
  {
   "cell_type": "code",
   "execution_count": 38,
   "id": "937f3fad",
   "metadata": {},
   "outputs": [
    {
     "name": "stdout",
     "output_type": "stream",
     "text": [
      "[1 2 3 5]\n"
     ]
    }
   ],
   "source": [
    "arr = np.array([1, 2, 3, 4])\n",
    "x = arr.copy()\n",
    "arr[3] = 5\n",
    "print(arr)"
   ]
  },
  {
   "cell_type": "markdown",
   "id": "809b6a98",
   "metadata": {},
   "source": [
    "# Sorting"
   ]
  },
  {
   "cell_type": "code",
   "execution_count": 39,
   "id": "06fedbcc",
   "metadata": {},
   "outputs": [
    {
     "name": "stdout",
     "output_type": "stream",
     "text": [
      "[4, 7, 11, 17, 25]\n"
     ]
    }
   ],
   "source": [
    "import numpy as np\n",
    "arr = ([17, 11, 25, 4, 7])\n",
    "arr.sort()\n",
    "print(arr)"
   ]
  },
  {
   "cell_type": "code",
   "execution_count": 40,
   "id": "17b6ba4b",
   "metadata": {},
   "outputs": [
    {
     "name": "stdout",
     "output_type": "stream",
     "text": [
      "[[ 2  7]\n",
      " [35 45]]\n"
     ]
    }
   ],
   "source": [
    "A=np.array([[7, 2], [45, 35]])\n",
    "A.sort(axis=1)\n",
    "print(A)"
   ]
  },
  {
   "cell_type": "markdown",
   "id": "f87d6566",
   "metadata": {},
   "source": [
    "# Subsetting"
   ]
  },
  {
   "cell_type": "code",
   "execution_count": 41,
   "id": "4ec79658",
   "metadata": {},
   "outputs": [
    {
     "name": "stdout",
     "output_type": "stream",
     "text": [
      "17\n"
     ]
    }
   ],
   "source": [
    "import numpy as np\n",
    "arr = np.array([25, 4, 7, 17, 11])\n",
    "print(arr[3])"
   ]
  },
  {
   "cell_type": "code",
   "execution_count": 42,
   "id": "6bc92230",
   "metadata": {},
   "outputs": [
    {
     "name": "stdout",
     "output_type": "stream",
     "text": [
      "17\n"
     ]
    }
   ],
   "source": [
    "arr = np.array([[25, 4, 7], [17, 11, 13]])\n",
    "print(arr[1,0])"
   ]
  },
  {
   "cell_type": "markdown",
   "id": "c60a4877",
   "metadata": {},
   "source": [
    "# Slicing"
   ]
  },
  {
   "cell_type": "code",
   "execution_count": 43,
   "id": "29437411",
   "metadata": {},
   "outputs": [
    {
     "data": {
      "text/plain": [
       "array([7])"
      ]
     },
     "execution_count": 43,
     "metadata": {},
     "output_type": "execute_result"
    }
   ],
   "source": [
    "import numpy as np\n",
    "arr = np.array([25, 4, 7, 17, 11])\n",
    "arr[2:3]"
   ]
  },
  {
   "cell_type": "code",
   "execution_count": 44,
   "id": "f72c424c",
   "metadata": {},
   "outputs": [
    {
     "name": "stdout",
     "output_type": "stream",
     "text": [
      "[[25  4  7]]\n"
     ]
    }
   ],
   "source": [
    "arr = np.array([[25, 4, 7], [17, 11, 13]])\n",
    "\n",
    "print(arr[0:1])     ###can't understand"
   ]
  },
  {
   "cell_type": "code",
   "execution_count": 45,
   "id": "c356d32a",
   "metadata": {},
   "outputs": [
    {
     "name": "stdout",
     "output_type": "stream",
     "text": [
      "[[25  4  7]]\n"
     ]
    }
   ],
   "source": [
    "arr = np.array([[25, 4, 7], [17, 11, 13]])\n",
    "print(arr[:1])\n",
    "## :0 than []\n",
    "## :1 than [25, 4, 7]\n",
    "## :2 than both rows... i want only 2nd row"
   ]
  },
  {
   "cell_type": "code",
   "execution_count": 46,
   "id": "cfc10d1a",
   "metadata": {},
   "outputs": [
    {
     "name": "stdout",
     "output_type": "stream",
     "text": [
      "[17 11 13]\n"
     ]
    }
   ],
   "source": [
    "arr = np.array([[25, 4, 7], [17, 11, 13]])\n",
    "print(arr[1,...])"
   ]
  },
  {
   "cell_type": "code",
   "execution_count": 47,
   "id": "7ef75a75",
   "metadata": {},
   "outputs": [
    {
     "name": "stdout",
     "output_type": "stream",
     "text": [
      "[[17 11 13]\n",
      " [25  4  7]]\n"
     ]
    }
   ],
   "source": [
    "arr = np.array([[25, 4, 7], [17, 11, 13]])\n",
    "print(arr[::-1])"
   ]
  },
  {
   "cell_type": "markdown",
   "id": "bfe58d29",
   "metadata": {},
   "source": [
    "# Boolean Indexing"
   ]
  },
  {
   "cell_type": "code",
   "execution_count": 48,
   "id": "2005ec71",
   "metadata": {},
   "outputs": [
    {
     "name": "stdout",
     "output_type": "stream",
     "text": [
      "[4 7]\n",
      "[25 17]\n"
     ]
    }
   ],
   "source": [
    "import numpy as np\n",
    "arr = np.array([25, 4, 7, 17, 11])\n",
    "print(arr[arr<10])\n",
    "print(arr[arr>15])\n"
   ]
  },
  {
   "cell_type": "markdown",
   "id": "6fbf4b4b",
   "metadata": {},
   "source": [
    "# Fancy Indexing"
   ]
  },
  {
   "cell_type": "code",
   "execution_count": 49,
   "id": "a59c08d5",
   "metadata": {},
   "outputs": [
    {
     "name": "stdout",
     "output_type": "stream",
     "text": [
      "[[25  4  7  9]\n",
      " [17 11 13 22]]\n"
     ]
    }
   ],
   "source": [
    "arr = np.array([[25, 4, 7, 9], [17, 11, 13, 22]])\n",
    "arr[[1, 0, 1, 0], [0, 1, 2, 0]]\n",
    "print(arr)\n"
   ]
  },
  {
   "cell_type": "markdown",
   "id": "873daa82",
   "metadata": {},
   "source": [
    "# Array Manipulation \n"
   ]
  },
  {
   "cell_type": "markdown",
   "id": "b49b5fc5",
   "metadata": {},
   "source": [
    "## Transposing Array"
   ]
  },
  {
   "cell_type": "code",
   "execution_count": 50,
   "id": "1f84be74",
   "metadata": {},
   "outputs": [
    {
     "data": {
      "text/plain": [
       "array([[0, 3],\n",
       "       [1, 4],\n",
       "       [2, 5]])"
      ]
     },
     "execution_count": 50,
     "metadata": {},
     "output_type": "execute_result"
    }
   ],
   "source": [
    "import numpy as np\n",
    "a=np.arange(6).reshape((2,3))\n",
    "a\n",
    "b=np.transpose(a)\n",
    "b"
   ]
  },
  {
   "cell_type": "code",
   "execution_count": 51,
   "id": "e68a9ac0",
   "metadata": {},
   "outputs": [
    {
     "name": "stdout",
     "output_type": "stream",
     "text": [
      "[[1 2 3]\n",
      " [4 5 6]\n",
      " [7 8 9]]\n",
      "\n"
     ]
    },
    {
     "data": {
      "text/plain": [
       "array([[1, 4, 7],\n",
       "       [2, 5, 8],\n",
       "       [3, 6, 9]])"
      ]
     },
     "execution_count": 51,
     "metadata": {},
     "output_type": "execute_result"
    }
   ],
   "source": [
    "    a = np.array([[1,2,3],\n",
    "                   [4,5,6],\n",
    "                   [7,8,9]])\n",
    "    print(a, end = '\\n\\n')\n",
    "    a.T"
   ]
  },
  {
   "cell_type": "markdown",
   "id": "53789e08",
   "metadata": {},
   "source": [
    "## Changing Array Shape "
   ]
  },
  {
   "cell_type": "code",
   "execution_count": 52,
   "id": "65627a8c",
   "metadata": {},
   "outputs": [
    {
     "name": "stdout",
     "output_type": "stream",
     "text": [
      "[25  4  7  9 17 11 13 22]\n"
     ]
    }
   ],
   "source": [
    "arr = np.array([[25, 4, 7, 9], [17, 11, 13, 22]])\n",
    "print(arr.ravel())"
   ]
  },
  {
   "cell_type": "code",
   "execution_count": 53,
   "id": "f80dea55",
   "metadata": {},
   "outputs": [
    {
     "name": "stdout",
     "output_type": "stream",
     "text": [
      "[[25  4]\n",
      " [ 7  9]\n",
      " [17 11]\n",
      " [13 22]]\n"
     ]
    }
   ],
   "source": [
    "arr = np.array([[25, 4, 7, 9], [17, 11, 13, 22]])\n",
    "print(arr.reshape(4,-3))"
   ]
  },
  {
   "cell_type": "markdown",
   "id": "6a9804a4",
   "metadata": {},
   "source": [
    "## Adding/removing shape"
   ]
  },
  {
   "cell_type": "code",
   "execution_count": 54,
   "id": "03e6a1ec",
   "metadata": {},
   "outputs": [
    {
     "name": "stdout",
     "output_type": "stream",
     "text": [
      "None\n",
      "[[25  4  7]\n",
      " [ 9 17 11]\n",
      " [13 22 77]\n",
      " [88 99 55]]\n"
     ]
    }
   ],
   "source": [
    "arr = np.array([[[25, 4, 7, 9], [17, 11, 13, 22], [77, 88, 99, 55]]])\n",
    "print(arr.resize(4,3))\n",
    "print(arr)"
   ]
  },
  {
   "cell_type": "code",
   "execution_count": 55,
   "id": "79acb87b",
   "metadata": {},
   "outputs": [
    {
     "data": {
      "text/plain": [
       "array([[0, 1, 2],\n",
       "       [3, 4, 5],\n",
       "       [6, 7, 8]])"
      ]
     },
     "execution_count": 55,
     "metadata": {},
     "output_type": "execute_result"
    }
   ],
   "source": [
    "np.append ([0, 1, 2], [[3, 4, 5], [6, 7, 8]])\n",
    "np.append([[0, 1, 2], [3, 4, 5]],[[6, 7, 8]], axis=0)\n",
    "    \n"
   ]
  },
  {
   "cell_type": "markdown",
   "id": "afb81dfc",
   "metadata": {},
   "source": [
    "# Spliting Arrays"
   ]
  },
  {
   "cell_type": "code",
   "execution_count": 57,
   "id": "243b3700",
   "metadata": {},
   "outputs": [
    {
     "data": {
      "text/plain": [
       "[array([[[25,  4,  7,  9]]]),\n",
       " array([[[22, 24, 26, 28]]]),\n",
       " array([[[33, 36, 39, 31]]])]"
      ]
     },
     "execution_count": 57,
     "metadata": {},
     "output_type": "execute_result"
    }
   ],
   "source": [
    "arr = np.array([[[25, 4, 7, 9], [22, 24, 26, 28], [33, 36, 39, 31]]])\n",
    "\n",
    "np.hsplit(arr,3)\n"
   ]
  },
  {
   "cell_type": "code",
   "execution_count": 58,
   "id": "3ddaa83e",
   "metadata": {},
   "outputs": [
    {
     "data": {
      "text/plain": [
       "[array([[[25,  4,  7,  9],\n",
       "         [22, 24, 26, 28],\n",
       "         [33, 36, 39, 31]]])]"
      ]
     },
     "execution_count": 58,
     "metadata": {},
     "output_type": "execute_result"
    }
   ],
   "source": [
    "arr = np.array([[[25, 4, 7, 9], [22, 24, 26, 28], [33, 36, 39, 31]]])\n",
    "\n",
    "np.vsplit(arr,1)\n"
   ]
  },
  {
   "cell_type": "code",
   "execution_count": 59,
   "id": "cb952742",
   "metadata": {},
   "outputs": [
    {
     "data": {
      "text/plain": [
       "(3, 3)"
      ]
     },
     "execution_count": 59,
     "metadata": {},
     "output_type": "execute_result"
    }
   ],
   "source": [
    "#### delete dimention\n",
    "\n",
    "a = np.arange(9).reshape(1, 3, 1, 3, 1)\n",
    "a.shape\n",
    "\n",
    "sq = np.squeeze(a)\n",
    "sq\n",
    "sq.shape"
   ]
  },
  {
   "cell_type": "code",
   "execution_count": 60,
   "id": "8dc9269a",
   "metadata": {},
   "outputs": [
    {
     "data": {
      "text/plain": [
       "(1, 3, 3)"
      ]
     },
     "execution_count": 60,
     "metadata": {},
     "output_type": "execute_result"
    }
   ],
   "source": [
    "### addind dimention\n",
    "\n",
    "a = np.arange(9).reshape(3,3)\n",
    "(a[np.newaxis].shape)"
   ]
  },
  {
   "cell_type": "code",
   "execution_count": 61,
   "id": "3a4cd259",
   "metadata": {},
   "outputs": [
    {
     "name": "stdout",
     "output_type": "stream",
     "text": [
      "Orignal Array: [1 2 4 5 6]\n",
      "New Array: [1 2 4 5 6 7]\n"
     ]
    }
   ],
   "source": [
    "### append\n",
    "\n",
    "a1 = np.array([1, 2, 4, 5, 6])\n",
    "a2 = np.append(a1, 7)\n",
    "\n",
    "print(\"Orignal Array:\", a1)\n",
    "print(\"New Array:\", a2)"
   ]
  },
  {
   "cell_type": "code",
   "execution_count": 62,
   "id": "12629de1",
   "metadata": {},
   "outputs": [
    {
     "data": {
      "text/plain": [
       "array([10, 11, 13, 14, 16, 18, 19, 20])"
      ]
     },
     "execution_count": 62,
     "metadata": {},
     "output_type": "execute_result"
    }
   ],
   "source": [
    "### delete\n",
    "\n",
    "\n",
    "a = np.array([10, 11, 12, 13, 14, 15, 16, 17, 18, 19, 20])\n",
    "index = [2, 5, 7]\n",
    "a1 = np.delete(a, index)\n",
    "a1\n",
    "\n"
   ]
  },
  {
   "cell_type": "code",
   "execution_count": 63,
   "id": "9858465f",
   "metadata": {},
   "outputs": [
    {
     "data": {
      "text/plain": [
       "array([0, 0, 3, 1, 1, 2, 2])"
      ]
     },
     "execution_count": 63,
     "metadata": {},
     "output_type": "execute_result"
    }
   ],
   "source": [
    "## insert\n",
    "\n",
    "a = np.array([[0, 0], [1, 1], [2, 2]])\n",
    "a\n",
    "np.insert(a,2, 3 )"
   ]
  },
  {
   "cell_type": "code",
   "execution_count": 64,
   "id": "0bdcbaf6",
   "metadata": {},
   "outputs": [
    {
     "data": {
      "text/plain": [
       "array([[0, 0, 3],\n",
       "       [1, 1, 3],\n",
       "       [2, 2, 3]])"
      ]
     },
     "execution_count": 64,
     "metadata": {},
     "output_type": "execute_result"
    }
   ],
   "source": [
    "a = np.array([[0, 0], [1, 1], [2, 2]])\n",
    "np.insert(a, 2, 3, axis = 1)"
   ]
  },
  {
   "cell_type": "code",
   "execution_count": 65,
   "id": "8b934b90",
   "metadata": {},
   "outputs": [
    {
     "data": {
      "text/plain": [
       "array([0, 0, 1, 1, 2, 2])"
      ]
     },
     "execution_count": 65,
     "metadata": {},
     "output_type": "execute_result"
    }
   ],
   "source": [
    "a = np.array([[0, 0], [1, 1], [2, 2]])\n",
    "b = a.ravel()\n",
    "b"
   ]
  },
  {
   "cell_type": "code",
   "execution_count": null,
   "id": "b5125f23",
   "metadata": {},
   "outputs": [],
   "source": []
  },
  {
   "cell_type": "code",
   "execution_count": null,
   "id": "734d8468",
   "metadata": {},
   "outputs": [],
   "source": []
  },
  {
   "cell_type": "code",
   "execution_count": null,
   "id": "697785f5",
   "metadata": {},
   "outputs": [],
   "source": []
  }
 ],
 "metadata": {
  "kernelspec": {
   "display_name": "Python 3 (ipykernel)",
   "language": "python",
   "name": "python3"
  },
  "language_info": {
   "codemirror_mode": {
    "name": "ipython",
    "version": 3
   },
   "file_extension": ".py",
   "mimetype": "text/x-python",
   "name": "python",
   "nbconvert_exporter": "python",
   "pygments_lexer": "ipython3",
   "version": "3.9.12"
  }
 },
 "nbformat": 4,
 "nbformat_minor": 5
}
